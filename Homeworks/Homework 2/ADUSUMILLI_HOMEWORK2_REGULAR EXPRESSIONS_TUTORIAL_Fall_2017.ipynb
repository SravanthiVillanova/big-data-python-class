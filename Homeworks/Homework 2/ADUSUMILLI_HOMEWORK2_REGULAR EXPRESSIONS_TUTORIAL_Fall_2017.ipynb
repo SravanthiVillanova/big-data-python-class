{
 "cells": [
  {
   "cell_type": "markdown",
   "metadata": {},
   "source": [
    "## Python Regular Expressions\n",
    "Regular expressions in python are supported by the re module. We should import re module to start using regular expression methods.<br>\n",
    "Regular expressions are compiled into pattern objects, which have methods for various operations such as searching for pattern matches or performing string substitutions."
   ]
  },
  {
   "cell_type": "code",
   "execution_count": 18,
   "metadata": {},
   "outputs": [
    {
     "data": {
      "text/plain": [
       "re.compile(r'abc', re.UNICODE)"
      ]
     },
     "execution_count": 18,
     "metadata": {},
     "output_type": "execute_result"
    }
   ],
   "source": [
    "import re\n",
    "pattern = re.compile(\"abc\")    #pattern object created here searches for pattern 'abc' against given string\n",
    "pattern"
   ]
  },
  {
   "cell_type": "markdown",
   "metadata": {},
   "source": [
    "**match()** is used to match pattern against text. It produces a match object instance which has methods."
   ]
  },
  {
   "cell_type": "code",
   "execution_count": 20,
   "metadata": {},
   "outputs": [
    {
     "name": "stdout",
     "output_type": "stream",
     "text": [
      "None\n",
      "<_sre.SRE_Match object; span=(0, 3), match='abc'>\n"
     ]
    }
   ],
   "source": [
    "m = pattern.match(\"None\")\n",
    "print(m)\n",
    "m = pattern.match(\"abc\")\n",
    "print(m)                   "
   ]
  },
  {
   "cell_type": "markdown",
   "metadata": {
    "collapsed": true
   },
   "source": [
    "We can also use compilation flags to specify cases like 'Ignore Case', 'Multi Line', 'Any Character', 'Verbose'"
   ]
  },
  {
   "cell_type": "code",
   "execution_count": 23,
   "metadata": {},
   "outputs": [
    {
     "name": "stdout",
     "output_type": "stream",
     "text": [
      "<_sre.SRE_Match object; span=(0, 5), match='SravS'>\n",
      "<_sre.SRE_Match object; span=(0, 9), match='year 2017'>\n",
      "<_sre.SRE_Match object; span=(0, 15), match='sravs.a@aol.com'>\n"
     ]
    }
   ],
   "source": [
    "import re\n",
    "pattern = re.compile(r\"[a-z]+\", re.I)\n",
    "m = pattern.match(\"SravS\")                    #Ignores Case\n",
    "print(m)\n",
    "\n",
    "pattern = re.compile(r\"\\w+\\s\\d+\",re.M)         #matches string in multiple lines\n",
    "m = pattern.match(\"year 2017\\n month 10\")\n",
    "print(m)\n",
    "\n",
    "pattern = re.compile(\n",
    "    '''\n",
    "    [\\w\\d.+-]+       # username\n",
    "    @\n",
    "    ([\\w\\d.]+\\.)+    # domain name prefix\n",
    "    (com|org|edu)    # more domains\n",
    "    ''',\n",
    "    re.VERBOSE)                 #verbose makes it more readable\n",
    "\n",
    "m = pattern.match(\"sravs.a@aol.com\")\n",
    "print(m)\n",
    "\n"
   ]
  },
  {
   "cell_type": "markdown",
   "metadata": {},
   "source": [
    "match() method only checks if the regex matches at the start of a string, so start() will always be zero. However, the **search()** method of patterns scans through the string, so the match may not start at zero in that case."
   ]
  },
  {
   "cell_type": "code",
   "execution_count": 24,
   "metadata": {},
   "outputs": [
    {
     "name": "stdout",
     "output_type": "stream",
     "text": [
      "<_sre.SRE_Match object; span=(8, 11), match='abc'>\n"
     ]
    }
   ],
   "source": [
    "import re\n",
    "pat = re.compile(\"abc\")\n",
    "m = pat.search(\"Here is abc\")\n",
    "print(m)"
   ]
  },
  {
   "cell_type": "markdown",
   "metadata": {},
   "source": [
    "We can use group(), start(), end(), span() methods of matched object for more information."
   ]
  },
  {
   "cell_type": "code",
   "execution_count": 26,
   "metadata": {},
   "outputs": [
    {
     "name": "stdout",
     "output_type": "stream",
     "text": [
      "8\n",
      "11\n",
      "abc\n",
      "(8, 11)\n"
     ]
    }
   ],
   "source": [
    "print(m.start())     #gives start index of matched part\n",
    "print(m.end())       #gives end index of matched part\n",
    "print(m.group())     #gives the matched string\n",
    "print(m.span())      #gives a tuple containing the (start, end) positions of the match"
   ]
  },
  {
   "cell_type": "markdown",
   "metadata": {},
   "source": [
    "**findall()** returns all the matches of a pattern unlike match(), search() which only return first matched string."
   ]
  },
  {
   "cell_type": "code",
   "execution_count": 28,
   "metadata": {},
   "outputs": [
    {
     "name": "stdout",
     "output_type": "stream",
     "text": [
      "['100 pigs', '30 cows', '40 hens', '2 dogs']\n"
     ]
    }
   ],
   "source": [
    "import re\n",
    "pattern = re.compile('\\d+\\s\\w+')\n",
    "m = pattern.findall('We have 100 pigs, 30 cows, 40 hens and 2 dogs in our farm')\n",
    "print(m)"
   ]
  },
  {
   "cell_type": "markdown",
   "metadata": {},
   "source": [
    "findall() creates the list of matched strings and returns it where as **finditer()** returns matched strings as iterator."
   ]
  },
  {
   "cell_type": "code",
   "execution_count": 29,
   "metadata": {},
   "outputs": [
    {
     "name": "stdout",
     "output_type": "stream",
     "text": [
      "100 pigs\n",
      "30 cows\n",
      "40 hens\n",
      "2 dogs\n"
     ]
    }
   ],
   "source": [
    "import re\n",
    "pattern = re.compile('\\d+\\s\\w+')\n",
    "iterator = pattern.finditer('We have 100 pigs, 30 cows, 40 hens and 2 dogs in our farm')\n",
    "for match in iterator:\n",
    "    print(match.group())"
   ]
  },
  {
   "cell_type": "markdown",
   "metadata": {},
   "source": [
    "We needn't create the pattern object everytime to search for a pattern. re module also provides top-level functions match(), search(), findall(), sub() etc., which take pattern to be matched as first argument, string to be matched against as second argument and return either none or a match object instance."
   ]
  },
  {
   "cell_type": "code",
   "execution_count": 34,
   "metadata": {},
   "outputs": [
    {
     "name": "stdout",
     "output_type": "stream",
     "text": [
      "None\n",
      "<_sre.SRE_Match object; span=(8, 16), match='100 pigs'>\n",
      "100 pigs\n",
      "['100 pigs', '30 cows', '40 hens', '2 dogs']\n",
      "100 pigs\n",
      "30 cows\n",
      "40 hens\n",
      "2 dogs\n"
     ]
    }
   ],
   "source": [
    "import re\n",
    "m = re.match('\\d+\\s\\w+','We have 100 pigs, 30 cows, 40 hens and 2 dogs in our farm')\n",
    "print(m)\n",
    "\n",
    "m = re.search('\\d+\\s\\w+','We have 100 pigs, 30 cows, 40 hens and 2 dogs in our farm')\n",
    "print(m)\n",
    "print(m.group())\n",
    "\n",
    "m = re.findall('\\d+\\s\\w+','We have 100 pigs, 30 cows, 40 hens and 2 dogs in our farm')\n",
    "print(m)\n",
    "\n",
    "iter = re.finditer('\\d+\\s\\w+','We have 100 pigs, 30 cows, 40 hens and 2 dogs in our farm')\n",
    "for m in iter:\n",
    "    print(m.group())"
   ]
  },
  {
   "cell_type": "markdown",
   "metadata": {},
   "source": [
    "### References\n",
    "https://docs.python.org/3/howto/regex.html <br>\n",
    "Mastering Python Regula Expressions by Felix Lopez, Victor Romero"
   ]
  },
  {
   "cell_type": "code",
   "execution_count": null,
   "metadata": {
    "collapsed": true
   },
   "outputs": [],
   "source": []
  }
 ],
 "metadata": {
  "kernelspec": {
   "display_name": "Python 3",
   "language": "python",
   "name": "python3"
  },
  "language_info": {
   "codemirror_mode": {
    "name": "ipython",
    "version": 3
   },
   "file_extension": ".py",
   "mimetype": "text/x-python",
   "name": "python",
   "nbconvert_exporter": "python",
   "pygments_lexer": "ipython3",
   "version": "3.6.1"
  }
 },
 "nbformat": 4,
 "nbformat_minor": 2
}
