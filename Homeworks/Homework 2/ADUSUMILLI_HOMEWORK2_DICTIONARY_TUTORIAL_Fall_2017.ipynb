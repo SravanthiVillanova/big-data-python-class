{
 "cells": [
  {
   "cell_type": "markdown",
   "metadata": {},
   "source": [
    "## Dictonary"
   ]
  },
  {
   "cell_type": "markdown",
   "metadata": {},
   "source": [
    "B. Use of dictionaries<br>\n",
    "1) creation of dict<br>\n",
    "2.) access, modify, and delete dict items<br>\n",
    "3) merge dictionaires<br>\n",
    "4) loop over\n",
    "I. keys\n",
    "ii. values\n",
    "iii. Items"
   ]
  },
  {
   "cell_type": "markdown",
   "metadata": {},
   "source": [
    "### Create a Dictionary\n",
    "Dictonary is key/value hash table structure of python. It is an associative array. Any key of dictionary is mapped to a value. Dictionaries are unordered key-value pairs."
   ]
  },
  {
   "cell_type": "code",
   "execution_count": 8,
   "metadata": {},
   "outputs": [
    {
     "name": "stdout",
     "output_type": "stream",
     "text": [
      "{}\n",
      "{'a': 1, 'e': 2, 'i': 3, 'o': 4}\n",
      "{'a': 1, 'e': 2, 'i': 3, 'o': 4, 'u': 4}\n"
     ]
    }
   ],
   "source": [
    "ex_dict = {}   # creating an empty dictionary\n",
    "print(ex_dict)\n",
    "vowel_dict = {'a':1, 'e':2, 'i':3, 'o':4}   #storing key/value pairs into dictionary\n",
    "print(vowel_dict)\n",
    "\n",
    "vowel_dict['u'] = 4          #assigning a new key/value to dictionary\n",
    "print(vowel_dict)"
   ]
  },
  {
   "cell_type": "markdown",
   "metadata": {},
   "source": [
    "Any type of data types can be used for values, but only immutable data types can be used as keys."
   ]
  },
  {
   "cell_type": "code",
   "execution_count": 14,
   "metadata": {},
   "outputs": [
    {
     "name": "stdout",
     "output_type": "stream",
     "text": [
      "{'1': 3.125, 'a': 1, '5.5': 'b', 'test': 'no'}\n"
     ]
    },
    {
     "ename": "TypeError",
     "evalue": "unhashable type: 'list'",
     "output_type": "error",
     "traceback": [
      "\u001b[1;31m---------------------------------------------------------------------------\u001b[0m",
      "\u001b[1;31mTypeError\u001b[0m                                 Traceback (most recent call last)",
      "\u001b[1;32m<ipython-input-14-8525317d62a9>\u001b[0m in \u001b[0;36m<module>\u001b[1;34m()\u001b[0m\n\u001b[0;32m      1\u001b[0m \u001b[0mnew_dict\u001b[0m \u001b[1;33m=\u001b[0m \u001b[1;33m{\u001b[0m\u001b[1;34m\"1\"\u001b[0m\u001b[1;33m:\u001b[0m\u001b[1;36m3.125\u001b[0m\u001b[1;33m,\u001b[0m\u001b[1;34m\"a\"\u001b[0m\u001b[1;33m:\u001b[0m\u001b[1;36m1\u001b[0m\u001b[1;33m,\u001b[0m\u001b[1;34m\"5.5\"\u001b[0m\u001b[1;33m:\u001b[0m\u001b[1;34m\"b\"\u001b[0m\u001b[1;33m,\u001b[0m\u001b[1;34m\"test\"\u001b[0m\u001b[1;33m:\u001b[0m\u001b[1;34m'no'\u001b[0m\u001b[1;33m}\u001b[0m\u001b[1;33m\u001b[0m\u001b[0m\n\u001b[0;32m      2\u001b[0m \u001b[0mprint\u001b[0m\u001b[1;33m(\u001b[0m\u001b[0mnew_dict\u001b[0m\u001b[1;33m)\u001b[0m\u001b[1;33m\u001b[0m\u001b[0m\n\u001b[1;32m----> 3\u001b[1;33m \u001b[0mnew_dict\u001b[0m\u001b[1;33m[\u001b[0m\u001b[1;33m[\u001b[0m\u001b[1;34m\"abc\"\u001b[0m\u001b[1;33m]\u001b[0m\u001b[1;33m]\u001b[0m\u001b[1;33m=\u001b[0m\u001b[1;36m123\u001b[0m   \u001b[1;31m#gives error\u001b[0m\u001b[1;33m\u001b[0m\u001b[0m\n\u001b[0m",
      "\u001b[1;31mTypeError\u001b[0m: unhashable type: 'list'"
     ]
    }
   ],
   "source": [
    "new_dict = {\"1\":3.125,\"a\":1,\"5.5\":\"b\",\"test\":'no'}\n",
    "print(new_dict)\n",
    "new_dict[[\"abc\"]]=123   #gives hash error"
   ]
  },
  {
   "cell_type": "code",
   "execution_count": 16,
   "metadata": {},
   "outputs": [
    {
     "name": "stdout",
     "output_type": "stream",
     "text": [
      "{'1': 3.125, 'a': 1, '5.5': 'b', 'test': 'no', 'abc': 123}\n"
     ]
    }
   ],
   "source": [
    "new_dict[(\"abc\")] = 123      #doesn't give error as tuple is immutable type\n",
    "print(new_dict)"
   ]
  },
  {
   "cell_type": "markdown",
   "metadata": {},
   "source": [
    "The **dict()** constructor can also be used to build dictionaries from key, value pairs."
   ]
  },
  {
   "cell_type": "code",
   "execution_count": 11,
   "metadata": {},
   "outputs": [
    {
     "data": {
      "text/plain": [
       "{'hexagon': 6, 'pentagon': 5, 'septagon': 7, 'square': 4}"
      ]
     },
     "execution_count": 11,
     "metadata": {},
     "output_type": "execute_result"
    }
   ],
   "source": [
    "dict([('square', 4), ('pentagon', 5), ('hexagon', 6), ('septagon', 7)])"
   ]
  },
  {
   "cell_type": "markdown",
   "metadata": {},
   "source": [
    "We can also create dictionary from a list/tuple"
   ]
  },
  {
   "cell_type": "code",
   "execution_count": 21,
   "metadata": {},
   "outputs": [
    {
     "name": "stdout",
     "output_type": "stream",
     "text": [
      "{'abc': 1, 'def': 2, 'ghi': 3}\n",
      "{'Sun': 1, 'Mon': 2, 'Tue': 3, 'Wed': 4, 'Thu': 5, 'Fri': 5, 'Sat': 6}\n"
     ]
    }
   ],
   "source": [
    "list1 = [('abc',1),('def',2),('ghi',3)]\n",
    "dict1 = {}\n",
    "for k,v in list1:\n",
    "    dict1[k] = v\n",
    "print(dict1)\n",
    "\n",
    "tup1 = (('Sun',1),('Mon',2),('Tue',3),('Wed',4),('Thu',5),('Fri',5),('Sat',6))\n",
    "week_dict = {}\n",
    "for day,num in tup1:\n",
    "    week_dict[day] = num\n",
    "print(week_dict)"
   ]
  },
  {
   "cell_type": "markdown",
   "metadata": {},
   "source": [
    "### Access Dictionary Items\n",
    "\n",
    "We can access keys of dictionary individually. But trying to access a key that doesn't exist throws a key error. To avoid key errors, we can use if statements to check if a key exists in a dictionary."
   ]
  },
  {
   "cell_type": "code",
   "execution_count": 17,
   "metadata": {},
   "outputs": [
    {
     "name": "stdout",
     "output_type": "stream",
     "text": [
      "2\n"
     ]
    },
    {
     "ename": "KeyError",
     "evalue": "'b'",
     "output_type": "error",
     "traceback": [
      "\u001b[1;31m---------------------------------------------------------------------------\u001b[0m",
      "\u001b[1;31mKeyError\u001b[0m                                  Traceback (most recent call last)",
      "\u001b[1;32m<ipython-input-17-0e3ddd9ce166>\u001b[0m in \u001b[0;36m<module>\u001b[1;34m()\u001b[0m\n\u001b[0;32m      1\u001b[0m \u001b[0mprint\u001b[0m\u001b[1;33m(\u001b[0m\u001b[0mvowel_dict\u001b[0m\u001b[1;33m[\u001b[0m\u001b[1;34m'e'\u001b[0m\u001b[1;33m]\u001b[0m\u001b[1;33m)\u001b[0m\u001b[1;33m\u001b[0m\u001b[0m\n\u001b[1;32m----> 2\u001b[1;33m \u001b[0mprint\u001b[0m\u001b[1;33m(\u001b[0m\u001b[0mvowel_dict\u001b[0m\u001b[1;33m[\u001b[0m\u001b[1;34m'b'\u001b[0m\u001b[1;33m]\u001b[0m\u001b[1;33m)\u001b[0m    \u001b[1;31m#gives key error\u001b[0m\u001b[1;33m\u001b[0m\u001b[0m\n\u001b[0m",
      "\u001b[1;31mKeyError\u001b[0m: 'b'"
     ]
    }
   ],
   "source": [
    "print(vowel_dict['e'])\n",
    "print(vowel_dict['b'])    #gives key error"
   ]
  },
  {
   "cell_type": "code",
   "execution_count": 18,
   "metadata": {
    "collapsed": true
   },
   "outputs": [],
   "source": [
    "if 'b' in vowel_dict:\n",
    "    print(\"yes\")\n",
    "vowel_dict.get('b')#we can also use get() to retrieve dictionary key/value. if the key doesn't exist, the method returns none"
   ]
  },
  {
   "cell_type": "markdown",
   "metadata": {},
   "source": [
    "There are built in methods to access keys, values of a dictionary separately. We can also use **items()** to display all the items of a dictionary."
   ]
  },
  {
   "cell_type": "code",
   "execution_count": 22,
   "metadata": {},
   "outputs": [
    {
     "name": "stdout",
     "output_type": "stream",
     "text": [
      "dict_keys(['Sun', 'Mon', 'Tue', 'Wed', 'Thu', 'Fri', 'Sat'])\n",
      "dict_values([1, 2, 3, 4, 5, 5, 6])\n",
      "dict_items([('Sun', 1), ('Mon', 2), ('Tue', 3), ('Wed', 4), ('Thu', 5), ('Fri', 5), ('Sat', 6)])\n"
     ]
    }
   ],
   "source": [
    "print(week_dict.keys())\n",
    "print(week_dict.values())\n",
    "print(week_dict.items())"
   ]
  },
  {
   "cell_type": "markdown",
   "metadata": {},
   "source": [
    "### Modify Dictionary elements\n",
    "\n",
    "We can modify dictionary values same like adding a new element. If the key exists in dictionary, it value is updated. Else a new key,value pair is created"
   ]
  },
  {
   "cell_type": "code",
   "execution_count": 5,
   "metadata": {},
   "outputs": [
    {
     "name": "stdout",
     "output_type": "stream",
     "text": [
      "{'ID': 'E12345', 'Name': 'John', 'Age': 27, 'Title': 'Lead', 'Dept': ''}\n",
      "{'ID': 'E12345', 'Name': 'John', 'Age': 27, 'Title': 'Lead', 'Dept': 'CRM'}\n"
     ]
    }
   ],
   "source": [
    "emp_dict = {'ID':'E12345','Name':'John','Age':27,'Title':'Lead','Dept':''}\n",
    "print(emp_dict)\n",
    "\n",
    "emp_dict['Dept'] = 'CRM'    #updates value of key 'Dept'\n",
    "print(emp_dict)"
   ]
  },
  {
   "cell_type": "markdown",
   "metadata": {},
   "source": [
    "We can also update all the values of a dictionary using loops"
   ]
  },
  {
   "cell_type": "code",
   "execution_count": 33,
   "metadata": {},
   "outputs": [
    {
     "name": "stdout",
     "output_type": "stream",
     "text": [
      "{'1sq': 1, '2sq': 2, '3sq': 3, '4sq': 4, '5sq': 5}\n",
      "{'1sq': 1, '2sq': 4, '3sq': 9, '4sq': 16, '5sq': 25}\n"
     ]
    }
   ],
   "source": [
    "sqs_dict = {'1sq':1,'2sq':2,'3sq':3,'4sq':4,'5sq':5}\n",
    "print(sqs_dict)\n",
    "\n",
    "for k in sqs_dict.keys():\n",
    "    sqs_dict[k] = sqs_dict[k]**2\n",
    "print(sqs_dict)"
   ]
  },
  {
   "cell_type": "markdown",
   "metadata": {
    "collapsed": true
   },
   "source": [
    "We can change the key of a dictionary by assigning to a new key and deleting the old one."
   ]
  },
  {
   "cell_type": "code",
   "execution_count": 6,
   "metadata": {},
   "outputs": [
    {
     "name": "stdout",
     "output_type": "stream",
     "text": [
      "{'ID': 'E12345', 'Name': 'John', 'Age': 27, 'Title': 'Lead', 'Dept': 'CRM'}\n",
      "{'ID': 'E12345', 'Name': 'John', 'Age': 27, 'Dept': 'CRM', 'Job': 'Lead'}\n"
     ]
    }
   ],
   "source": [
    "print(emp_dict)\n",
    "emp_dict['Job'] = emp_dict.pop('Title')\n",
    "print(emp_dict)"
   ]
  },
  {
   "cell_type": "markdown",
   "metadata": {},
   "source": [
    "### Dictionary Delete Operations\n",
    "\n",
    "We can delete an entry in a dictionary or the entire dicionary using **del()**. We can also remove all the entries without deleting the dictionary using **clear()**"
   ]
  },
  {
   "cell_type": "code",
   "execution_count": 10,
   "metadata": {},
   "outputs": [
    {
     "name": "stdout",
     "output_type": "stream",
     "text": [
      "{'Name': 'Kresha', 'Age': 30, 'Year': 'Graduate', 'Dept': 'Computer Science'}\n",
      "{'Name': 'Kresha', 'Age': 30, 'Dept': 'Computer Science'}\n",
      "{}\n"
     ]
    },
    {
     "ename": "NameError",
     "evalue": "name 'my_dict' is not defined",
     "output_type": "error",
     "traceback": [
      "\u001b[1;31m---------------------------------------------------------------------------\u001b[0m",
      "\u001b[1;31mNameError\u001b[0m                                 Traceback (most recent call last)",
      "\u001b[1;32m<ipython-input-10-710274c09a60>\u001b[0m in \u001b[0;36m<module>\u001b[1;34m()\u001b[0m\n\u001b[0;32m      9\u001b[0m \u001b[1;33m\u001b[0m\u001b[0m\n\u001b[0;32m     10\u001b[0m \u001b[1;32mdel\u001b[0m \u001b[0mmy_dict\u001b[0m \u001b[1;33m;\u001b[0m        \u001b[1;31m# delete entire dictionary\u001b[0m\u001b[1;33m\u001b[0m\u001b[0m\n\u001b[1;32m---> 11\u001b[1;33m \u001b[0mprint\u001b[0m\u001b[1;33m(\u001b[0m\u001b[0mmy_dict\u001b[0m\u001b[1;33m)\u001b[0m       \u001b[1;31m#error as my_dict doesn't exist\u001b[0m\u001b[1;33m\u001b[0m\u001b[0m\n\u001b[0m",
      "\u001b[1;31mNameError\u001b[0m: name 'my_dict' is not defined"
     ]
    }
   ],
   "source": [
    "my_dict = {'Name': 'Kresha', 'Age': 30, 'Year': 'Graduate', 'Dept':'Computer Science'}\n",
    "print(my_dict)\n",
    "\n",
    "del my_dict['Year']    #removes entry with key 'Year'\n",
    "print(my_dict)\n",
    "\n",
    "my_dict.clear();     # remove all entries in my_dict but doesn't delete the dictionary\n",
    "print(my_dict)\n",
    "\n",
    "del my_dict ;        # delete entire dictionary\n",
    "print(my_dict)       #error as my_dict doesn't exist"
   ]
  },
  {
   "cell_type": "markdown",
   "metadata": {},
   "source": [
    "### Merge Dictionaries\n",
    "We can merge one dictionary into another using **update()** method."
   ]
  },
  {
   "cell_type": "code",
   "execution_count": 8,
   "metadata": {},
   "outputs": [
    {
     "name": "stdout",
     "output_type": "stream",
     "text": [
      "{'ID': 'E12345', 'Name': 'John', 'Age': 27, 'Dept': 'CRM', 'Job': 'Lead'}\n",
      "{'Address': '215 Avenue', 'City': 'Harrisburg', 'State': 'PA'}\n",
      "{'ID': 'E12345', 'Name': 'John', 'Age': 27, 'Dept': 'CRM', 'Job': 'Lead', 'Address': '215 Avenue', 'City': 'Harrisburg', 'State': 'PA'}\n",
      "{'Address': '215 Avenue', 'City': 'Harrisburg', 'State': 'PA'}\n"
     ]
    }
   ],
   "source": [
    "emp_addr_dict = {'Address':'215 Avenue','City':'Harrisburg','State':'PA'}\n",
    "print(emp_dict)\n",
    "print(emp_addr_dict)\n",
    "emp_dict.update(emp_addr_dict)         #adds emp_addr_dict to emp_dict\n",
    "print(emp_dict)\n",
    "print(emp_addr_dict)"
   ]
  },
  {
   "cell_type": "markdown",
   "metadata": {},
   "source": [
    "We can also merge two dictionaries in a single line using dict(), by unpacking a dictionary and copying to another."
   ]
  },
  {
   "cell_type": "code",
   "execution_count": 23,
   "metadata": {},
   "outputs": [
    {
     "name": "stdout",
     "output_type": "stream",
     "text": [
      "{'Britain': 'Pound', 'Japan': 'J Yen', 'USA': 'Dollar', 'China': 'Yen', 'India': 'Rupee'}\n"
     ]
    }
   ],
   "source": [
    "currency1 = {'USA':'Dollar','China':'Yen','India':'Rupee'}\n",
    "currency2 = {'Britain':'Pound', 'Japan':'J Yen'}\n",
    "currency = dict(currency2, **currency1)\n",
    "print(currency)"
   ]
  },
  {
   "cell_type": "markdown",
   "metadata": {},
   "source": [
    "### Loop over Dictionaries\n",
    "We can iterate over dictionaries using:<br>\n",
    "1. keys<br>\n",
    "2. Values<br>\n",
    "3. Item (key-value) pair"
   ]
  },
  {
   "cell_type": "code",
   "execution_count": 25,
   "metadata": {},
   "outputs": [
    {
     "name": "stdout",
     "output_type": "stream",
     "text": [
      "Sun\n",
      "Mon\n",
      "Tue\n",
      "Wed\n",
      "Thu\n",
      "Fri\n",
      "Sat\n",
      "\n",
      "\n",
      "Sun\n",
      "Mon\n",
      "Tue\n",
      "Wed\n",
      "Thu\n",
      "Fri\n",
      "Sat\n",
      "\n",
      "\n",
      "1\n",
      "2\n",
      "3\n",
      "4\n",
      "5\n",
      "5\n",
      "6\n",
      "\n",
      "\n",
      "1\n",
      "2\n",
      "3\n",
      "4\n",
      "5\n",
      "5\n",
      "6\n",
      "\n",
      "\n",
      "('Sun', 1)\n",
      "('Mon', 2)\n",
      "('Tue', 3)\n",
      "('Wed', 4)\n",
      "('Thu', 5)\n",
      "('Fri', 5)\n",
      "('Sat', 6)\n"
     ]
    }
   ],
   "source": [
    "#iterate over dictionary keys\n",
    "for key in week_dict:\n",
    "    print(key)\n",
    "print('\\n')\n",
    "\n",
    "#We can also use the method keys():\n",
    "for key in week_dict.keys():\n",
    "    print(key)\n",
    "print('\\n')\n",
    "\n",
    "#iterate over dictionary values\n",
    "for key in week_dict:\n",
    "    print(week_dict[key])\n",
    "print('\\n')\n",
    "\n",
    "#We can also use the method values() to loop over dictionary values.\n",
    "for val in week_dict.values():\n",
    "    print(val)\n",
    "print('\\n')\n",
    "\n",
    "#iterate over dictionary items using items()\n",
    "for i in week_dict.items():\n",
    "    print(i)"
   ]
  },
  {
   "cell_type": "markdown",
   "metadata": {},
   "source": [
    "### Dictionary Comprehensions\n",
    "Dictionary comprehensions can also be used to create dictionaries from key,value expressions."
   ]
  },
  {
   "cell_type": "code",
   "execution_count": 16,
   "metadata": {},
   "outputs": [
    {
     "name": "stdout",
     "output_type": "stream",
     "text": [
      "{1: 1, 2: 8, 3: 27, 4: 64}\n"
     ]
    }
   ],
   "source": [
    "cubes_dict = {x: x**3 for x in range(1,5)}\n",
    "print(cubes_dict)"
   ]
  },
  {
   "cell_type": "markdown",
   "metadata": {},
   "source": [
    "### Looping using enumerate()\n",
    "We can use enumerate() to get position index and corresponding value of the dictionary."
   ]
  },
  {
   "cell_type": "code",
   "execution_count": 18,
   "metadata": {},
   "outputs": [
    {
     "name": "stdout",
     "output_type": "stream",
     "text": [
      "0 (1, 1)\n",
      "1 (2, 8)\n",
      "2 (3, 27)\n",
      "3 (4, 64)\n"
     ]
    }
   ],
   "source": [
    "for i, v in enumerate(cubes_dict.items()):\n",
    "    print(i, v)"
   ]
  },
  {
   "cell_type": "markdown",
   "metadata": {},
   "source": [
    "### References:\n",
    "https://docs.python.org/3/tutorial/datastructures.html <br>\n",
    "https://www.python-course.eu/dictionaries.php <br>\n",
    "https://developers.google.com/edu/python/dict-files <br>\n",
    "https://www.tutorialspoint.com/python <br>\n",
    "https://code.tutsplus.com/tutorials/how-to-merge-two-python-dictionaries--cms-26230 <br>"
   ]
  },
  {
   "cell_type": "code",
   "execution_count": null,
   "metadata": {
    "collapsed": true
   },
   "outputs": [],
   "source": []
  }
 ],
 "metadata": {
  "kernelspec": {
   "display_name": "Python 3",
   "language": "python",
   "name": "python3"
  },
  "language_info": {
   "codemirror_mode": {
    "name": "ipython",
    "version": 3
   },
   "file_extension": ".py",
   "mimetype": "text/x-python",
   "name": "python",
   "nbconvert_exporter": "python",
   "pygments_lexer": "ipython3",
   "version": "3.6.1"
  }
 },
 "nbformat": 4,
 "nbformat_minor": 2
}
