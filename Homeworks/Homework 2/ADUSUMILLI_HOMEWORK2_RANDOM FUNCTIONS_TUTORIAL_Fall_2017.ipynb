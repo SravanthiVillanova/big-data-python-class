{
 "cells": [
  {
   "cell_type": "markdown",
   "metadata": {},
   "source": [
    "## random\n",
    "random module is used to generate pseudo random numbers for various distributions. The function **random()** generates a random number between zero and one [0, 0.1 .. 1]."
   ]
  },
  {
   "cell_type": "code",
   "execution_count": 1,
   "metadata": {},
   "outputs": [
    {
     "name": "stdout",
     "output_type": "stream",
     "text": [
      "0.9466564822707891\n"
     ]
    }
   ],
   "source": [
    "from random import *\n",
    "print(random())"
   ]
  },
  {
   "cell_type": "markdown",
   "metadata": {},
   "source": [
    "**uniform(a,b)** is used to generate a random floating point number between a and b"
   ]
  },
  {
   "cell_type": "code",
   "execution_count": 2,
   "metadata": {},
   "outputs": [
    {
     "name": "stdout",
     "output_type": "stream",
     "text": [
      "4.5948927151448435\n"
     ]
    }
   ],
   "source": [
    "from random import *\n",
    "print(uniform(3.5,5))"
   ]
  },
  {
   "cell_type": "markdown",
   "metadata": {},
   "source": [
    "**randint(a,b)** can be used to generate random iteger between a,b"
   ]
  },
  {
   "cell_type": "code",
   "execution_count": 4,
   "metadata": {},
   "outputs": [
    {
     "name": "stdout",
     "output_type": "stream",
     "text": [
      "19\n"
     ]
    }
   ],
   "source": [
    "from random import *\n",
    "print(randint(10,20))"
   ]
  },
  {
   "cell_type": "markdown",
   "metadata": {},
   "source": [
    "**randrange(stop)**, **randrange(start,stop[,step])** generate a randomly selected element given range."
   ]
  },
  {
   "cell_type": "code",
   "execution_count": 5,
   "metadata": {},
   "outputs": [
    {
     "name": "stdout",
     "output_type": "stream",
     "text": [
      "6\n",
      "20\n"
     ]
    }
   ],
   "source": [
    "from random import *\n",
    "print(randrange(20))      #generates a random number between 0 to 20\n",
    "print(randrange(10,50,5))  #generates a random number between 10 to 50 with increment of 5"
   ]
  },
  {
   "cell_type": "markdown",
   "metadata": {},
   "source": [
    "**choice(sequence)** selects a random item from given sequence. It can be used to select a random element from a list."
   ]
  },
  {
   "cell_type": "code",
   "execution_count": 7,
   "metadata": {},
   "outputs": [
    {
     "name": "stdout",
     "output_type": "stream",
     "text": [
      "Berry\n"
     ]
    }
   ],
   "source": [
    "from random import *\n",
    "print(choice(['Orange','Mango','Apple','Peach','Berry']))"
   ]
  },
  {
   "cell_type": "markdown",
   "metadata": {},
   "source": [
    "The **shuffle()** function, shuffles the elements in list in place, so they are in a random order."
   ]
  },
  {
   "cell_type": "code",
   "execution_count": 11,
   "metadata": {},
   "outputs": [
    {
     "name": "stdout",
     "output_type": "stream",
     "text": [
      "[1, 4, 7, 287, 2900, 100, 3, 6, 1000]\n",
      "[18, 9, 15, 19, 3, 17, 5, 0, 2, 1, 13, 16, 6, 12, 8, 7, 4, 11, 14, 10]\n"
     ]
    }
   ],
   "source": [
    "from random import *\n",
    "list1 = [100,1,287,6,4,3,1000,2900,7]\n",
    "shuffle(list1)\n",
    "print(list1)\n",
    "\n",
    "rand_list = [i for i in range(20)]\n",
    "shuffle(rand_list)\n",
    "print(rand_list)"
   ]
  },
  {
   "cell_type": "markdown",
   "metadata": {},
   "source": [
    "**sample(population, k)**\n",
    "Return a k length list of unique elements chosen from the population sequence or set. Used for random sampling without replacement."
   ]
  },
  {
   "cell_type": "code",
   "execution_count": 12,
   "metadata": {},
   "outputs": [
    {
     "name": "stdout",
     "output_type": "stream",
     "text": [
      "['Jenny', 'Anna', 'Chris']\n"
     ]
    }
   ],
   "source": [
    "list_rand = ['Sravs','Chris','Steve','Kyle','Jenny','Tome','Anna','Matt']\n",
    "samp_list = sample(list_rand,3)\n",
    "print(samp_list)"
   ]
  },
  {
   "cell_type": "markdown",
   "metadata": {},
   "source": [
    "**choices(population, weights, cum_weights, k)**\n",
    "Return a k sized list of elements chosen from the population with replacement. If the population is empty, raises IndexError.\n",
    "\n",
    "If a weights sequence is specified, selections are made according to the relative weights. Alternatively, if a cum_weights sequence is given, the selections are made according to the cumulative weights.\n",
    "\n",
    "If neither weights nor cum_weights are specified, selections are made with equal probability. If a weights sequence is supplied, it must be the same length as the population sequence. It is a TypeError to specify both weights and cum_weights."
   ]
  },
  {
   "cell_type": "code",
   "execution_count": 16,
   "metadata": {},
   "outputs": [
    {
     "name": "stdout",
     "output_type": "stream",
     "text": [
      "['Diamond', 'Diamond', 'Diamond', 'Diamond', 'Diamond', 'Diamond', 'Heart', 'Heart']\n"
     ]
    }
   ],
   "source": [
    "print(choices(['Heart', 'Spade', 'Club','Diamond'], [18, 2, 2, 18], k=8))"
   ]
  },
  {
   "cell_type": "markdown",
   "metadata": {},
   "source": [
    "### References\n",
    "https://pythonspot.com/en/random-numbers/ <br>\n",
    "https://docs.python.org/3/library/random.html"
   ]
  },
  {
   "cell_type": "code",
   "execution_count": null,
   "metadata": {
    "collapsed": true
   },
   "outputs": [],
   "source": []
  }
 ],
 "metadata": {
  "kernelspec": {
   "display_name": "Python 3",
   "language": "python",
   "name": "python3"
  },
  "language_info": {
   "codemirror_mode": {
    "name": "ipython",
    "version": 3
   },
   "file_extension": ".py",
   "mimetype": "text/x-python",
   "name": "python",
   "nbconvert_exporter": "python",
   "pygments_lexer": "ipython3",
   "version": "3.6.1"
  }
 },
 "nbformat": 4,
 "nbformat_minor": 2
}
