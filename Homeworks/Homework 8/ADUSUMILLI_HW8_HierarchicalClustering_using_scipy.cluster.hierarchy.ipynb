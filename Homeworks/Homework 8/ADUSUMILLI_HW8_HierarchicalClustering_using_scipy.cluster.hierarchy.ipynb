{
 "cells": [
  {
   "cell_type": "markdown",
   "metadata": {},
   "source": [
    "### Hierarchical Clustering algorithm using scipy.cluster.hierarchy\n",
    "This tutorial documents use of scipy.cluster.hierarchy for agglomerative cluster analysis. Using linkage() with 'average' distance method we derive linkage cluster array Z. <br>\n",
    "\n",
    "Hierarchical clustering is an agglomeration clustering that starts by considering each data point as a cluster and goes forward by merging these clusters based on some similairty until it reaches the number of clusers we mention. <br>\n",
    "To calculate similarty between clusters, various types of distances called linkages are used. <br>\n",
    "Linkages - <br>\n",
    "Single is minimum distance between datapoints in cluster <br>\n",
    "Complete is maximum distance between datapoints in cluster <br>\n",
    "Average is the average distance between datapoints in cluster <br>\n",
    "Centroid is distance between centroids of datapoints or clusters. <br>\n",
    "\n"
   ]
  },
  {
   "cell_type": "markdown",
   "metadata": {},
   "source": [
    "For this algorithm I considered same wines dataset. But I have used only the first two columns - Alcohol, Malic.acid data for this."
   ]
  },
  {
   "cell_type": "code",
   "execution_count": 1,
   "metadata": {},
   "outputs": [
    {
     "data": {
      "text/html": [
       "<div>\n",
       "<style>\n",
       "    .dataframe thead tr:only-child th {\n",
       "        text-align: right;\n",
       "    }\n",
       "\n",
       "    .dataframe thead th {\n",
       "        text-align: left;\n",
       "    }\n",
       "\n",
       "    .dataframe tbody tr th {\n",
       "        vertical-align: top;\n",
       "    }\n",
       "</style>\n",
       "<table border=\"1\" class=\"dataframe\">\n",
       "  <thead>\n",
       "    <tr style=\"text-align: right;\">\n",
       "      <th></th>\n",
       "      <th>Wine</th>\n",
       "      <th>Alcohol</th>\n",
       "      <th>Malic.acid</th>\n",
       "      <th>Ash</th>\n",
       "      <th>Acl</th>\n",
       "      <th>Mg</th>\n",
       "      <th>Phenols</th>\n",
       "      <th>Flavanoids</th>\n",
       "      <th>Nonflavanoid.phenols</th>\n",
       "      <th>Proanth</th>\n",
       "      <th>Color.int</th>\n",
       "      <th>Hue</th>\n",
       "      <th>OD</th>\n",
       "      <th>Proline</th>\n",
       "    </tr>\n",
       "  </thead>\n",
       "  <tbody>\n",
       "    <tr>\n",
       "      <th>0</th>\n",
       "      <td>1</td>\n",
       "      <td>14.23</td>\n",
       "      <td>1.71</td>\n",
       "      <td>2.43</td>\n",
       "      <td>15.6</td>\n",
       "      <td>127</td>\n",
       "      <td>2.80</td>\n",
       "      <td>3.06</td>\n",
       "      <td>0.28</td>\n",
       "      <td>2.29</td>\n",
       "      <td>5.64</td>\n",
       "      <td>1.04</td>\n",
       "      <td>3.92</td>\n",
       "      <td>1065</td>\n",
       "    </tr>\n",
       "    <tr>\n",
       "      <th>1</th>\n",
       "      <td>1</td>\n",
       "      <td>13.20</td>\n",
       "      <td>1.78</td>\n",
       "      <td>2.14</td>\n",
       "      <td>11.2</td>\n",
       "      <td>100</td>\n",
       "      <td>2.65</td>\n",
       "      <td>2.76</td>\n",
       "      <td>0.26</td>\n",
       "      <td>1.28</td>\n",
       "      <td>4.38</td>\n",
       "      <td>1.05</td>\n",
       "      <td>3.40</td>\n",
       "      <td>1050</td>\n",
       "    </tr>\n",
       "    <tr>\n",
       "      <th>2</th>\n",
       "      <td>1</td>\n",
       "      <td>13.16</td>\n",
       "      <td>2.36</td>\n",
       "      <td>2.67</td>\n",
       "      <td>18.6</td>\n",
       "      <td>101</td>\n",
       "      <td>2.80</td>\n",
       "      <td>3.24</td>\n",
       "      <td>0.30</td>\n",
       "      <td>2.81</td>\n",
       "      <td>5.68</td>\n",
       "      <td>1.03</td>\n",
       "      <td>3.17</td>\n",
       "      <td>1185</td>\n",
       "    </tr>\n",
       "    <tr>\n",
       "      <th>3</th>\n",
       "      <td>1</td>\n",
       "      <td>14.37</td>\n",
       "      <td>1.95</td>\n",
       "      <td>2.50</td>\n",
       "      <td>16.8</td>\n",
       "      <td>113</td>\n",
       "      <td>3.85</td>\n",
       "      <td>3.49</td>\n",
       "      <td>0.24</td>\n",
       "      <td>2.18</td>\n",
       "      <td>7.80</td>\n",
       "      <td>0.86</td>\n",
       "      <td>3.45</td>\n",
       "      <td>1480</td>\n",
       "    </tr>\n",
       "    <tr>\n",
       "      <th>4</th>\n",
       "      <td>1</td>\n",
       "      <td>13.24</td>\n",
       "      <td>2.59</td>\n",
       "      <td>2.87</td>\n",
       "      <td>21.0</td>\n",
       "      <td>118</td>\n",
       "      <td>2.80</td>\n",
       "      <td>2.69</td>\n",
       "      <td>0.39</td>\n",
       "      <td>1.82</td>\n",
       "      <td>4.32</td>\n",
       "      <td>1.04</td>\n",
       "      <td>2.93</td>\n",
       "      <td>735</td>\n",
       "    </tr>\n",
       "  </tbody>\n",
       "</table>\n",
       "</div>"
      ],
      "text/plain": [
       "   Wine  Alcohol  Malic.acid   Ash   Acl   Mg  Phenols  Flavanoids  \\\n",
       "0     1    14.23        1.71  2.43  15.6  127     2.80        3.06   \n",
       "1     1    13.20        1.78  2.14  11.2  100     2.65        2.76   \n",
       "2     1    13.16        2.36  2.67  18.6  101     2.80        3.24   \n",
       "3     1    14.37        1.95  2.50  16.8  113     3.85        3.49   \n",
       "4     1    13.24        2.59  2.87  21.0  118     2.80        2.69   \n",
       "\n",
       "   Nonflavanoid.phenols  Proanth  Color.int   Hue    OD  Proline  \n",
       "0                  0.28     2.29       5.64  1.04  3.92     1065  \n",
       "1                  0.26     1.28       4.38  1.05  3.40     1050  \n",
       "2                  0.30     2.81       5.68  1.03  3.17     1185  \n",
       "3                  0.24     2.18       7.80  0.86  3.45     1480  \n",
       "4                  0.39     1.82       4.32  1.04  2.93      735  "
      ]
     },
     "execution_count": 1,
     "metadata": {},
     "output_type": "execute_result"
    }
   ],
   "source": [
    "%matplotlib inline\n",
    "import pandas as pd\n",
    "import numpy as np\n",
    "import matplotlib.pyplot as plt\n",
    "\n",
    "wines = pd.read_csv(\"data/wine.csv\")\n",
    "wines.head()"
   ]
  },
  {
   "cell_type": "code",
   "execution_count": 2,
   "metadata": {
    "collapsed": true
   },
   "outputs": [],
   "source": [
    "wine = wines.drop('Wine', axis=1)"
   ]
  },
  {
   "cell_type": "code",
   "execution_count": 3,
   "metadata": {},
   "outputs": [
    {
     "data": {
      "text/plain": [
       "Index(['Alcohol', 'Malic.acid', 'Ash', 'Acl', 'Mg', 'Phenols', 'Flavanoids',\n",
       "       'Nonflavanoid.phenols', 'Proanth', 'Color.int', 'Hue', 'OD', 'Proline'],\n",
       "      dtype='object')"
      ]
     },
     "execution_count": 3,
     "metadata": {},
     "output_type": "execute_result"
    }
   ],
   "source": [
    "wine.columns"
   ]
  },
  {
   "cell_type": "code",
   "execution_count": 4,
   "metadata": {
    "collapsed": true
   },
   "outputs": [],
   "source": [
    "wine.drop(['Ash','Acl', 'Mg', 'Phenols', 'Flavanoids', 'Nonflavanoid.phenols', 'Proanth',\n",
    "           'Color.int', 'Hue', 'OD', 'Proline'], axis=1, inplace=True)"
   ]
  },
  {
   "cell_type": "code",
   "execution_count": 5,
   "metadata": {},
   "outputs": [
    {
     "data": {
      "text/plain": [
       "Index(['Alcohol', 'Malic.acid'], dtype='object')"
      ]
     },
     "execution_count": 5,
     "metadata": {},
     "output_type": "execute_result"
    }
   ],
   "source": [
    "wine.columns"
   ]
  },
  {
   "cell_type": "code",
   "execution_count": 23,
   "metadata": {
    "collapsed": true
   },
   "outputs": [],
   "source": [
    "# needed imports\n",
    "from matplotlib import pyplot as plt\n",
    "from scipy.cluster.hierarchy import dendrogram, linkage\n",
    "import numpy as np\n",
    "X = np.array(wine.values)"
   ]
  },
  {
   "cell_type": "code",
   "execution_count": 24,
   "metadata": {},
   "outputs": [
    {
     "data": {
      "text/plain": [
       "array([[ 14.23,   1.71],\n",
       "       [ 13.2 ,   1.78],\n",
       "       [ 13.16,   2.36],\n",
       "       [ 14.37,   1.95],\n",
       "       [ 13.24,   2.59],\n",
       "       [ 14.2 ,   1.76],\n",
       "       [ 14.39,   1.87],\n",
       "       [ 14.06,   2.15],\n",
       "       [ 14.83,   1.64],\n",
       "       [ 13.86,   1.35],\n",
       "       [ 14.1 ,   2.16],\n",
       "       [ 14.12,   1.48],\n",
       "       [ 13.75,   1.73],\n",
       "       [ 14.75,   1.73],\n",
       "       [ 14.38,   1.87],\n",
       "       [ 13.63,   1.81],\n",
       "       [ 14.3 ,   1.92],\n",
       "       [ 13.83,   1.57],\n",
       "       [ 14.19,   1.59],\n",
       "       [ 13.64,   3.1 ],\n",
       "       [ 14.06,   1.63],\n",
       "       [ 12.93,   3.8 ],\n",
       "       [ 13.71,   1.86],\n",
       "       [ 12.85,   1.6 ],\n",
       "       [ 13.5 ,   1.81],\n",
       "       [ 13.05,   2.05],\n",
       "       [ 13.39,   1.77],\n",
       "       [ 13.3 ,   1.72],\n",
       "       [ 13.87,   1.9 ],\n",
       "       [ 14.02,   1.68],\n",
       "       [ 13.73,   1.5 ],\n",
       "       [ 13.58,   1.66],\n",
       "       [ 13.68,   1.83],\n",
       "       [ 13.76,   1.53],\n",
       "       [ 13.51,   1.8 ],\n",
       "       [ 13.48,   1.81],\n",
       "       [ 13.28,   1.64],\n",
       "       [ 13.05,   1.65],\n",
       "       [ 13.07,   1.5 ],\n",
       "       [ 14.22,   3.99],\n",
       "       [ 13.56,   1.71],\n",
       "       [ 13.41,   3.84],\n",
       "       [ 13.88,   1.89],\n",
       "       [ 13.24,   3.98],\n",
       "       [ 13.05,   1.77],\n",
       "       [ 14.21,   4.04],\n",
       "       [ 14.38,   3.59],\n",
       "       [ 13.9 ,   1.68],\n",
       "       [ 14.1 ,   2.02],\n",
       "       [ 13.94,   1.73],\n",
       "       [ 13.05,   1.73],\n",
       "       [ 13.83,   1.65],\n",
       "       [ 13.82,   1.75],\n",
       "       [ 13.77,   1.9 ],\n",
       "       [ 13.74,   1.67],\n",
       "       [ 13.56,   1.73],\n",
       "       [ 14.22,   1.7 ],\n",
       "       [ 13.29,   1.97],\n",
       "       [ 13.72,   1.43],\n",
       "       [ 12.37,   0.94],\n",
       "       [ 12.33,   1.1 ],\n",
       "       [ 12.64,   1.36],\n",
       "       [ 13.67,   1.25],\n",
       "       [ 12.37,   1.13],\n",
       "       [ 12.17,   1.45],\n",
       "       [ 12.37,   1.21],\n",
       "       [ 13.11,   1.01],\n",
       "       [ 12.37,   1.17],\n",
       "       [ 13.34,   0.94],\n",
       "       [ 12.21,   1.19],\n",
       "       [ 12.29,   1.61],\n",
       "       [ 13.86,   1.51],\n",
       "       [ 13.49,   1.66],\n",
       "       [ 12.99,   1.67],\n",
       "       [ 11.96,   1.09],\n",
       "       [ 11.66,   1.88],\n",
       "       [ 13.03,   0.9 ],\n",
       "       [ 11.84,   2.89],\n",
       "       [ 12.33,   0.99],\n",
       "       [ 12.7 ,   3.87],\n",
       "       [ 12.  ,   0.92],\n",
       "       [ 12.72,   1.81],\n",
       "       [ 12.08,   1.13],\n",
       "       [ 13.05,   3.86],\n",
       "       [ 11.84,   0.89],\n",
       "       [ 12.67,   0.98],\n",
       "       [ 12.16,   1.61],\n",
       "       [ 11.65,   1.67],\n",
       "       [ 11.64,   2.06],\n",
       "       [ 12.08,   1.33],\n",
       "       [ 12.08,   1.83],\n",
       "       [ 12.  ,   1.51],\n",
       "       [ 12.69,   1.53],\n",
       "       [ 12.29,   2.83],\n",
       "       [ 11.62,   1.99],\n",
       "       [ 12.47,   1.52],\n",
       "       [ 11.81,   2.12],\n",
       "       [ 12.29,   1.41],\n",
       "       [ 12.37,   1.07],\n",
       "       [ 12.29,   3.17],\n",
       "       [ 12.08,   2.08],\n",
       "       [ 12.6 ,   1.34],\n",
       "       [ 12.34,   2.45],\n",
       "       [ 11.82,   1.72],\n",
       "       [ 12.51,   1.73],\n",
       "       [ 12.42,   2.55],\n",
       "       [ 12.25,   1.73],\n",
       "       [ 12.72,   1.75],\n",
       "       [ 12.22,   1.29],\n",
       "       [ 11.61,   1.35],\n",
       "       [ 11.46,   3.74],\n",
       "       [ 12.52,   2.43],\n",
       "       [ 11.76,   2.68],\n",
       "       [ 11.41,   0.74],\n",
       "       [ 12.08,   1.39],\n",
       "       [ 11.03,   1.51],\n",
       "       [ 11.82,   1.47],\n",
       "       [ 12.42,   1.61],\n",
       "       [ 12.77,   3.43],\n",
       "       [ 12.  ,   3.43],\n",
       "       [ 11.45,   2.4 ],\n",
       "       [ 11.56,   2.05],\n",
       "       [ 12.42,   4.43],\n",
       "       [ 13.05,   5.8 ],\n",
       "       [ 11.87,   4.31],\n",
       "       [ 12.07,   2.16],\n",
       "       [ 12.43,   1.53],\n",
       "       [ 11.79,   2.13],\n",
       "       [ 12.37,   1.63],\n",
       "       [ 12.04,   4.3 ],\n",
       "       [ 12.86,   1.35],\n",
       "       [ 12.88,   2.99],\n",
       "       [ 12.81,   2.31],\n",
       "       [ 12.7 ,   3.55],\n",
       "       [ 12.51,   1.24],\n",
       "       [ 12.6 ,   2.46],\n",
       "       [ 12.25,   4.72],\n",
       "       [ 12.53,   5.51],\n",
       "       [ 13.49,   3.59],\n",
       "       [ 12.84,   2.96],\n",
       "       [ 12.93,   2.81],\n",
       "       [ 13.36,   2.56],\n",
       "       [ 13.52,   3.17],\n",
       "       [ 13.62,   4.95],\n",
       "       [ 12.25,   3.88],\n",
       "       [ 13.16,   3.57],\n",
       "       [ 13.88,   5.04],\n",
       "       [ 12.87,   4.61],\n",
       "       [ 13.32,   3.24],\n",
       "       [ 13.08,   3.9 ],\n",
       "       [ 13.5 ,   3.12],\n",
       "       [ 12.79,   2.67],\n",
       "       [ 13.11,   1.9 ],\n",
       "       [ 13.23,   3.3 ],\n",
       "       [ 12.58,   1.29],\n",
       "       [ 13.17,   5.19],\n",
       "       [ 13.84,   4.12],\n",
       "       [ 12.45,   3.03],\n",
       "       [ 14.34,   1.68],\n",
       "       [ 13.48,   1.67],\n",
       "       [ 12.36,   3.83],\n",
       "       [ 13.69,   3.26],\n",
       "       [ 12.85,   3.27],\n",
       "       [ 12.96,   3.45],\n",
       "       [ 13.78,   2.76],\n",
       "       [ 13.73,   4.36],\n",
       "       [ 13.45,   3.7 ],\n",
       "       [ 12.82,   3.37],\n",
       "       [ 13.58,   2.58],\n",
       "       [ 13.4 ,   4.6 ],\n",
       "       [ 12.2 ,   3.03],\n",
       "       [ 12.77,   2.39],\n",
       "       [ 14.16,   2.51],\n",
       "       [ 13.71,   5.65],\n",
       "       [ 13.4 ,   3.91],\n",
       "       [ 13.27,   4.28],\n",
       "       [ 13.17,   2.59],\n",
       "       [ 14.13,   4.1 ]])"
      ]
     },
     "execution_count": 24,
     "metadata": {},
     "output_type": "execute_result"
    }
   ],
   "source": [
    "X"
   ]
  },
  {
   "cell_type": "code",
   "execution_count": 25,
   "metadata": {},
   "outputs": [
    {
     "name": "stdout",
     "output_type": "stream",
     "text": [
      "(178, 2)\n"
     ]
    },
    {
     "data": {
      "image/png": "[encoded data removed]",
      "text/plain": [
       "<matplotlib.figure.Figure at 0x98da550>"
      ]
     },
     "metadata": {},
     "output_type": "display_data"
    }
   ],
   "source": [
    "print(X.shape)\n",
    "plt.scatter(X[:,0], X[:,1])\n",
    "plt.show()"
   ]
  },
  {
   "cell_type": "code",
   "execution_count": 57,
   "metadata": {
    "collapsed": true
   },
   "outputs": [],
   "source": [
    "# generate the linkage matrix\n",
    "Z = linkage(X, 'average')"
   ]
  },
  {
   "cell_type": "markdown",
   "metadata": {},
   "source": [
    "Calculating cophenetic correlation - is a kind of measure of suitability. It is a measure of how faithfully a dendrogram preserves the pairwise distances between the original unmodeled data points. (source: https://en.wikipedia.org/wiki/Cophenetic_correlation )\n",
    "We can use scipy.cluster.hierarchy.cophenet to calculate this."
   ]
  },
  {
   "cell_type": "code",
   "execution_count": 58,
   "metadata": {},
   "outputs": [
    {
     "data": {
      "text/plain": [
       "0.68470982846001538"
      ]
     },
     "execution_count": 58,
     "metadata": {},
     "output_type": "execute_result"
    }
   ],
   "source": [
    "from scipy.cluster.hierarchy import cophenet\n",
    "from scipy.spatial.distance import pdist\n",
    "\n",
    "c, coph_dists = cophenet(Z, pdist(X))\n",
    "c"
   ]
  },
  {
   "cell_type": "markdown",
   "metadata": {},
   "source": [
    "A cophenetic correlation closer to 1 indicates clustering preserves original distances. The value we gotfor this data is not very ideal. <br>\n",
    "Dendogram shows the order and distances of merges during clustering. <br>\n",
    "x-axis has the labels i.e., values from data X <br>\n",
    "y-axis has the distances calculated"
   ]
  },
  {
   "cell_type": "code",
   "execution_count": 59,
   "metadata": {},
   "outputs": [
    {
     "data": {
      "image/png": "[encoded data removed]",
      "text/plain": [
       "<matplotlib.figure.Figure at 0xb1645c0>"
      ]
     },
     "metadata": {},
     "output_type": "display_data"
    }
   ],
   "source": [
    "# calculate full dendrogram\n",
    "plt.figure(figsize=(25, 10))\n",
    "plt.title('Hierarchical Clustering Dendrogram')\n",
    "plt.xlabel('sample index')\n",
    "plt.ylabel('distance')\n",
    "dendrogram(\n",
    "    Z,\n",
    "    leaf_rotation=90.,  # rotates the x axis labels\n",
    "    leaf_font_size=8.,  # font size for the x axis labels\n",
    ")\n",
    "plt.show()"
   ]
  },
  {
   "cell_type": "markdown",
   "metadata": {},
   "source": [
    "As the dendogram plotted is not clear, we can truncate and show only last few cluster merges."
   ]
  },
  {
   "cell_type": "code",
   "execution_count": 62,
   "metadata": {},
   "outputs": [
    {
     "data": {
      "image/png": "[encoded data removed]",
      "text/plain": [
       "<matplotlib.figure.Figure at 0x9ede668>"
      ]
     },
     "metadata": {},
     "output_type": "display_data"
    }
   ],
   "source": [
    "plt.title('Hierarchical Clustering Dendrogram (truncated)')\n",
    "plt.xlabel('sample index')\n",
    "plt.ylabel('distance')\n",
    "dendrogram(\n",
    "    Z,\n",
    "    truncate_mode='lastp',  # show only the last p merged clusters\n",
    "    p=10,  # show only the last p merged clusters\n",
    "    show_leaf_counts=False,  # otherwise numbers in brackets are counts\n",
    "    leaf_rotation=90.,\n",
    "    leaf_font_size=12.,\n",
    "    show_contracted=True,  # to get a distribution impression in truncated branches\n",
    ")\n",
    "plt.show()"
   ]
  },
  {
   "cell_type": "code",
   "execution_count": 63,
   "metadata": {},
   "outputs": [
    {
     "data": {
      "image/png": "[encoded data removed]",
      "text/plain": [
       "<matplotlib.figure.Figure at 0xa11a4a8>"
      ]
     },
     "metadata": {},
     "output_type": "display_data"
    }
   ],
   "source": [
    "plt.title('Hierarchical Clustering Dendrogram (truncated)')\n",
    "plt.xlabel('sample index or (cluster size)')\n",
    "plt.ylabel('distance')\n",
    "dendrogram(\n",
    "    Z,\n",
    "    truncate_mode='lastp',  # show only the last p merged clusters\n",
    "    p=10,  # show only the last p merged clusters\n",
    "    leaf_rotation=90.,\n",
    "    leaf_font_size=12.,\n",
    "    show_contracted=True,  # to get a distribution impression in truncated branches\n",
    ")\n",
    "plt.show()"
   ]
  },
  {
   "cell_type": "markdown",
   "metadata": {},
   "source": [
    "The values on x-axis in () represent cluster sizes."
   ]
  },
  {
   "cell_type": "markdown",
   "metadata": {},
   "source": [
    "#### References:\n",
    "https://docs.scipy.org/doc/scipy/reference/generated/scipy.cluster.hierarchy.dendrogram.html <br>\n",
    "https://joernhees.de/blog/2015/08/26/scipy-hierarchical-clustering-and-dendrogram-tutorial/ <br>"
   ]
  }
 ],
 "metadata": {
  "kernelspec": {
   "display_name": "Python 3",
   "language": "python",
   "name": "python3"
  },
  "language_info": {
   "codemirror_mode": {
    "name": "ipython",
    "version": 3
   },
   "file_extension": ".py",
   "mimetype": "text/x-python",
   "name": "python",
   "nbconvert_exporter": "python",
   "pygments_lexer": "ipython3",
   "version": "3.6.1"
  }
 },
 "nbformat": 4,
 "nbformat_minor": 2
}
