{
 "cells": [
  {
   "cell_type": "markdown",
   "metadata": {},
   "source": [
    "5.1  Register for a stream of Twitter data\n",
    "\n",
    "5.2  Create a bloom filter classifying two days worth of twitters  ( after removing stop words and urls )\n",
    "\n",
    "5.3  For another days worth of twitter data find the previous twitters that match in the bloom filter\n",
    "(This means get two days of data in one file or directory , use that data for training the bloom filter, capture a different days data in a different file ( or do it in real time)and capture the match output then running the new twitter data through the filter.\n",
    "\n",
    "5.4 Plot a historgram of matches for each twitter in 5.3\n",
    "\n",
    "For the 4-5 grade.- Submit in a separate notebook - YourNAME-Homework5-Supplement\n",
    "\n",
    "1. Use a different machine learning training algorithm\n",
    "2. Make a continous feed where you take two days of data and match the incoming stream ( do this for 5 days windowing the filter data)\n",
    "3. Find new trends in the twitter feed (daily or hourly)\n",
    "4. Or some other streaming exploration of your choosing"
   ]
  },
  {
   "cell_type": "code",
   "execution_count": 1,
   "metadata": {},
   "outputs": [
    {
     "name": "stdout",
     "output_type": "stream",
     "text": [
      "Overwriting code/twitter_streaming_SA.py\n"
     ]
    }
   ],
   "source": [
    "%%writefile code/twitter_streaming_SA.py\n",
    "# %load code/twitter_streaming_SA.py\n",
    "\n",
    "\n",
    "#Import the necessary methods from tweepy library\n",
    "from tweepy.streaming import StreamListener\n",
    "import tweepy\n",
    "from tweepy import OAuthHandler\n",
    "from tweepy import Stream\n",
    "\n",
    "#Variables that contains the user credentials to access Twitter API\n",
    "access_token = \"131711504-uteEX6y8zoi0v4miLzEjZefg22ZZ8TgukyU9bHYW\"\n",
    "access_token_secret = \"UH3dk5s00euTgzJ92xveSSi7b84Aw2rrrtFeHelV5rmIv\"\n",
    "consumer_key = \"7lKe94q4mhbeINgp1hFWmpdGj\"\n",
    "consumer_secret = \"T46JL4SAhMK3EmiXpCFzSVwQ6ipvQ0xfqHBGbAUbPBVjtbDDp1\"\n",
    "\n",
    "\n",
    "#This is a basic listener that just prints received tweets to stdout.\n",
    "class StdOutListener(StreamListener):        \n",
    "    def on_data(self, data):\n",
    "        print(data)\n",
    "        return True\n",
    "\n",
    "    def on_error(self, status):\n",
    "        print(status)\n",
    "\n",
    "\n",
    "if __name__ == '__main__':\n",
    "\n",
    "    #This handles Twitter authetification and the connection to Twitter Streaming API\n",
    "    l = StdOutListener()\n",
    "    auth = OAuthHandler(consumer_key, consumer_secret)\n",
    "    auth.set_access_token(access_token, access_token_secret)\n",
    "    stream = Stream(auth, l)\n",
    "\n",
    "    #This line filter Twitter Streams to capture data by the keywords: 'python', 'javascript', 'ruby'\n",
    "    #stream.filter(track=['python', 'javascript', 'ruby'])\n",
    "    stream.sample()"
   ]
  },
  {
   "cell_type": "code",
   "execution_count": null,
   "metadata": {
    "collapsed": true
   },
   "outputs": [],
   "source": [
    "%%sh  \n",
    "python code/Twitter_streaming_SA.py > data/train.txt"
   ]
  },
  {
   "cell_type": "markdown",
   "metadata": {},
   "source": [
    "### Cleaning train data (2 days data)"
   ]
  },
  {
   "cell_type": "code",
   "execution_count": 4,
   "metadata": {},
   "outputs": [
    {
     "name": "stdout",
     "output_type": "stream",
     "text": [
      "81315\n"
     ]
    }
   ],
   "source": [
    "import json\n",
    "import pandas as pd\n",
    "tweets_data_path = 'data/training.txt'\n",
    "\n",
    "tweets_data = []\n",
    "tweets_file = open(tweets_data_path, \"r\")\n",
    "for line in tweets_file:\n",
    "    try:\n",
    "        tweet = json.loads(line)\n",
    "        tweets_data.append(tweet)\n",
    "    except:\n",
    "        continue\n",
    "        \n",
    "print(len(tweets_data))\n",
    "\n",
    "tweets = pd.DataFrame()\n",
    "#tweets['text'] = list(map(lambda tweet: [tweet.get('text','') for tweet in tweets_data], tweets_data))\n",
    "#tweets['lang'] = list(map(lambda tweet: tweet['lang'], tweets_data))\n",
    "#tweets['time_zone'] = list(map(lambda tweet: tweet['user']['time_zone'], tweets_data))\n",
    "#tweets['time_zone'] = [tweet.get('user', '').get('location', '') for tweet in tweets_data]\n",
    "\n",
    "tweets['text'] = [tweet.get('text','') for tweet in tweets_data]\n",
    "tweets['lang'] = [tweet.get('lang','') for tweet in tweets_data]\n",
    "for tweet in tweets_data:\n",
    "    if 'user' in tweet:\n",
    "        tweets['time_zone'] = tweet['user']['location']\n",
    "    else:\n",
    "        tweets['time_zone'] = \"\"\n",
    "\n",
    "tweets_by_lang = tweets['lang'].value_counts()\n",
    "#tweets"
   ]
  },
  {
   "cell_type": "code",
   "execution_count": 5,
   "metadata": {},
   "outputs": [
    {
     "data": {
      "text/html": [
       "<div>\n",
       "<style>\n",
       "    .dataframe thead tr:only-child th {\n",
       "        text-align: right;\n",
       "    }\n",
       "\n",
       "    .dataframe thead th {\n",
       "        text-align: left;\n",
       "    }\n",
       "\n",
       "    .dataframe tbody tr th {\n",
       "        vertical-align: top;\n",
       "    }\n",
       "</style>\n",
       "<table border=\"1\" class=\"dataframe\">\n",
       "  <thead>\n",
       "    <tr style=\"text-align: right;\">\n",
       "      <th></th>\n",
       "      <th>text</th>\n",
       "      <th>lang</th>\n",
       "      <th>time_zone</th>\n",
       "    </tr>\n",
       "  </thead>\n",
       "  <tbody>\n",
       "    <tr>\n",
       "      <th>0</th>\n",
       "      <td>RT @html_css_dev: React, Redux, &amp;amp; Enzyme -...</td>\n",
       "      <td>en</td>\n",
       "      <td>orlando, florida</td>\n",
       "    </tr>\n",
       "    <tr>\n",
       "      <th>1</th>\n",
       "      <td>RT @learn_html_css_: How To Get 300 Real Follo...</td>\n",
       "      <td>en</td>\n",
       "      <td>orlando, florida</td>\n",
       "    </tr>\n",
       "    <tr>\n",
       "      <th>2</th>\n",
       "      <td>RT @jQuery_Aiden: Getting Started with jQuery ...</td>\n",
       "      <td>en</td>\n",
       "      <td>orlando, florida</td>\n",
       "    </tr>\n",
       "    <tr>\n",
       "      <th>3</th>\n",
       "      <td>RT @PrasanRecruiter: #Hiring #JavaScript Devel...</td>\n",
       "      <td>en</td>\n",
       "      <td>orlando, florida</td>\n",
       "    </tr>\n",
       "    <tr>\n",
       "      <th>4</th>\n",
       "      <td>😅 \\nhttps://t.co/k0YVWL3JRv</td>\n",
       "      <td>und</td>\n",
       "      <td>orlando, florida</td>\n",
       "    </tr>\n",
       "  </tbody>\n",
       "</table>\n",
       "</div>"
      ],
      "text/plain": [
       "                                                text lang         time_zone\n",
       "0  RT @html_css_dev: React, Redux, &amp; Enzyme -...   en  orlando, florida\n",
       "1  RT @learn_html_css_: How To Get 300 Real Follo...   en  orlando, florida\n",
       "2  RT @jQuery_Aiden: Getting Started with jQuery ...   en  orlando, florida\n",
       "3  RT @PrasanRecruiter: #Hiring #JavaScript Devel...   en  orlando, florida\n",
       "4                        😅 \\nhttps://t.co/k0YVWL3JRv  und  orlando, florida"
      ]
     },
     "execution_count": 5,
     "metadata": {},
     "output_type": "execute_result"
    }
   ],
   "source": [
    "tweets.head()"
   ]
  },
  {
   "cell_type": "markdown",
   "metadata": {},
   "source": [
    "#### Removing urls from text of tweets"
   ]
  },
  {
   "cell_type": "code",
   "execution_count": 8,
   "metadata": {},
   "outputs": [
    {
     "data": {
      "text/html": [
       "<div>\n",
       "<style>\n",
       "    .dataframe thead tr:only-child th {\n",
       "        text-align: right;\n",
       "    }\n",
       "\n",
       "    .dataframe thead th {\n",
       "        text-align: left;\n",
       "    }\n",
       "\n",
       "    .dataframe tbody tr th {\n",
       "        vertical-align: top;\n",
       "    }\n",
       "</style>\n",
       "<table border=\"1\" class=\"dataframe\">\n",
       "  <thead>\n",
       "    <tr style=\"text-align: right;\">\n",
       "      <th></th>\n",
       "      <th>text</th>\n",
       "      <th>lang</th>\n",
       "    </tr>\n",
       "  </thead>\n",
       "  <tbody>\n",
       "    <tr>\n",
       "      <th>0</th>\n",
       "      <td>RT @html_css_dev: React, Redux, &amp;amp; Enzyme -...</td>\n",
       "      <td>en</td>\n",
       "    </tr>\n",
       "    <tr>\n",
       "      <th>1</th>\n",
       "      <td>RT @learn_html_css_: How To Get 300 Real Follo...</td>\n",
       "      <td>en</td>\n",
       "    </tr>\n",
       "    <tr>\n",
       "      <th>2</th>\n",
       "      <td>RT @jQuery_Aiden: Getting Started with jQuery ...</td>\n",
       "      <td>en</td>\n",
       "    </tr>\n",
       "    <tr>\n",
       "      <th>3</th>\n",
       "      <td>RT @PrasanRecruiter: #Hiring #JavaScript Devel...</td>\n",
       "      <td>en</td>\n",
       "    </tr>\n",
       "    <tr>\n",
       "      <th>4</th>\n",
       "      <td>😅 \\n</td>\n",
       "      <td>und</td>\n",
       "    </tr>\n",
       "  </tbody>\n",
       "</table>\n",
       "</div>"
      ],
      "text/plain": [
       "                                                text lang\n",
       "0  RT @html_css_dev: React, Redux, &amp; Enzyme -...   en\n",
       "1  RT @learn_html_css_: How To Get 300 Real Follo...   en\n",
       "2  RT @jQuery_Aiden: Getting Started with jQuery ...   en\n",
       "3  RT @PrasanRecruiter: #Hiring #JavaScript Devel...   en\n",
       "4                                               😅 \\n  und"
      ]
     },
     "execution_count": 8,
     "metadata": {},
     "output_type": "execute_result"
    }
   ],
   "source": [
    "def remove_link(text):\n",
    "    regex = r'https?://[^\\s<>\"]+|www\\.[^\\s<>\"]+'\n",
    "    return re.sub(regex, \"\", text)\n",
    "    \n",
    "# Remove urls from tweets text\n",
    "#tweets['text']\n",
    "train = pd.DataFrame()\n",
    "train['text'] = tweets['text']\n",
    "train['lang'] = tweets['lang']\n",
    "train['text'] = list(train['text'].apply(lambda tweet: remove_link(tweet)))\n",
    "train.head()"
   ]
  },
  {
   "cell_type": "markdown",
   "metadata": {},
   "source": [
    "#### Tokenize and remove stopwords"
   ]
  },
  {
   "cell_type": "code",
   "execution_count": 9,
   "metadata": {},
   "outputs": [
    {
     "name": "stdout",
     "output_type": "stream",
     "text": [
      "[nltk_data] Downloading package stopwords to\n",
      "[nltk_data]     C:\\Users\\Sravanthi\\AppData\\Roaming\\nltk_data...\n",
      "[nltk_data]   Package stopwords is already up-to-date!\n",
      "[nltk_data] Downloading package punkt to\n",
      "[nltk_data]     C:\\Users\\Sravanthi\\AppData\\Roaming\\nltk_data...\n",
      "[nltk_data]   Package punkt is already up-to-date!\n"
     ]
    },
    {
     "data": {
      "text/plain": [
       "True"
      ]
     },
     "execution_count": 9,
     "metadata": {},
     "output_type": "execute_result"
    }
   ],
   "source": [
    "import nltk\n",
    "nltk.download('stopwords')\n",
    "nltk.download('punkt')"
   ]
  },
  {
   "cell_type": "code",
   "execution_count": 22,
   "metadata": {},
   "outputs": [
    {
     "data": {
      "text/html": [
       "<div>\n",
       "<style>\n",
       "    .dataframe thead tr:only-child th {\n",
       "        text-align: right;\n",
       "    }\n",
       "\n",
       "    .dataframe thead th {\n",
       "        text-align: left;\n",
       "    }\n",
       "\n",
       "    .dataframe tbody tr th {\n",
       "        vertical-align: top;\n",
       "    }\n",
       "</style>\n",
       "<table border=\"1\" class=\"dataframe\">\n",
       "  <thead>\n",
       "    <tr style=\"text-align: right;\">\n",
       "      <th></th>\n",
       "      <th>text</th>\n",
       "      <th>lang</th>\n",
       "      <th>new_text</th>\n",
       "    </tr>\n",
       "  </thead>\n",
       "  <tbody>\n",
       "    <tr>\n",
       "      <th>0</th>\n",
       "      <td>RT @html_css_dev: React, Redux, &amp;amp; Enzyme -...</td>\n",
       "      <td>en</td>\n",
       "      <td>[RT, @, html_css_dev, :, React, ,, Redux, ,, &amp;...</td>\n",
       "    </tr>\n",
       "    <tr>\n",
       "      <th>1</th>\n",
       "      <td>RT @learn_html_css_: How To Get 300 Real Follo...</td>\n",
       "      <td>en</td>\n",
       "      <td>[RT, @, learn_html_css_, :, How, To, Get, 300,...</td>\n",
       "    </tr>\n",
       "    <tr>\n",
       "      <th>2</th>\n",
       "      <td>RT @jQuery_Aiden: Getting Started with jQuery ...</td>\n",
       "      <td>en</td>\n",
       "      <td>[RT, @, jQuery_Aiden, :, Getting, Started, jQu...</td>\n",
       "    </tr>\n",
       "    <tr>\n",
       "      <th>3</th>\n",
       "      <td>RT @PrasanRecruiter: #Hiring #JavaScript Devel...</td>\n",
       "      <td>en</td>\n",
       "      <td>[RT, @, PrasanRecruiter, :, #, Hiring, #, Java...</td>\n",
       "    </tr>\n",
       "    <tr>\n",
       "      <th>4</th>\n",
       "      <td>😅 \\n</td>\n",
       "      <td>und</td>\n",
       "      <td>[😅]</td>\n",
       "    </tr>\n",
       "  </tbody>\n",
       "</table>\n",
       "</div>"
      ],
      "text/plain": [
       "                                                text lang  \\\n",
       "0  RT @html_css_dev: React, Redux, &amp; Enzyme -...   en   \n",
       "1  RT @learn_html_css_: How To Get 300 Real Follo...   en   \n",
       "2  RT @jQuery_Aiden: Getting Started with jQuery ...   en   \n",
       "3  RT @PrasanRecruiter: #Hiring #JavaScript Devel...   en   \n",
       "4                                               😅 \\n  und   \n",
       "\n",
       "                                            new_text  \n",
       "0  [RT, @, html_css_dev, :, React, ,, Redux, ,, &...  \n",
       "1  [RT, @, learn_html_css_, :, How, To, Get, 300,...  \n",
       "2  [RT, @, jQuery_Aiden, :, Getting, Started, jQu...  \n",
       "3  [RT, @, PrasanRecruiter, :, #, Hiring, #, Java...  \n",
       "4                                                [😅]  "
      ]
     },
     "execution_count": 22,
     "metadata": {},
     "output_type": "execute_result"
    }
   ],
   "source": [
    "from nltk.corpus import stopwords\n",
    "stop = stopwords.words('english')\n",
    "from nltk.tokenize import word_tokenize\n",
    "train['new_text'] = train['text'].apply(word_tokenize)\n",
    "train['new_text'] = train['new_text'].apply(lambda x: [item for item in x if item not in stop])\n",
    "train.head()"
   ]
  },
  {
   "cell_type": "code",
   "execution_count": 29,
   "metadata": {},
   "outputs": [
    {
     "data": {
      "text/plain": [
       "'RT @learn_html_css_: How To Get 300 Real Followers For Instagram a Day\\n☞ \\n\\n #html #css #javascript #wordpress https:…'"
      ]
     },
     "execution_count": 29,
     "metadata": {},
     "output_type": "execute_result"
    }
   ],
   "source": [
    "train.iloc[1,0]"
   ]
  },
  {
   "cell_type": "code",
   "execution_count": 26,
   "metadata": {},
   "outputs": [
    {
     "data": {
      "text/plain": [
       "['RT',\n",
       " '@',\n",
       " 'learn_html_css_',\n",
       " ':',\n",
       " 'How',\n",
       " 'To',\n",
       " 'Get',\n",
       " '300',\n",
       " 'Real',\n",
       " 'Followers',\n",
       " 'For',\n",
       " 'Instagram',\n",
       " 'Day',\n",
       " '☞',\n",
       " '#',\n",
       " 'html',\n",
       " '#',\n",
       " 'css',\n",
       " '#',\n",
       " 'javascript',\n",
       " '#',\n",
       " 'wordpress',\n",
       " 'https',\n",
       " ':',\n",
       " '…']"
      ]
     },
     "execution_count": 26,
     "metadata": {},
     "output_type": "execute_result"
    }
   ],
   "source": [
    "train.iloc[1,2]"
   ]
  },
  {
   "cell_type": "markdown",
   "metadata": {},
   "source": [
    "### Cleaning test data"
   ]
  },
  {
   "cell_type": "code",
   "execution_count": 31,
   "metadata": {},
   "outputs": [
    {
     "name": "stdout",
     "output_type": "stream",
     "text": [
      "54063\n"
     ]
    }
   ],
   "source": [
    "import json\n",
    "import pandas as pd\n",
    "tweets_data_path = 'data/test.txt'\n",
    "\n",
    "tweets_data = []\n",
    "tweets_file = open(tweets_data_path, \"r\")\n",
    "for line in tweets_file:\n",
    "    try:\n",
    "        tweet = json.loads(line)\n",
    "        tweets_data.append(tweet)\n",
    "    except:\n",
    "        continue\n",
    "        \n",
    "print(len(tweets_data))\n",
    "\n",
    "tweets = pd.DataFrame()\n",
    "tweets['text'] = list(map(lambda tweet: tweet['text'], tweets_data))\n",
    "tweets['lang'] = list(map(lambda tweet: tweet['lang'], tweets_data))\n",
    "tweets['time_zone'] = list(map(lambda tweet: tweet['user']['time_zone'], tweets_data))\n",
    "tweets_by_lang = tweets['lang'].value_counts()\n",
    "#tweets"
   ]
  },
  {
   "cell_type": "code",
   "execution_count": 32,
   "metadata": {},
   "outputs": [
    {
     "data": {
      "text/html": [
       "<div>\n",
       "<style>\n",
       "    .dataframe thead tr:only-child th {\n",
       "        text-align: right;\n",
       "    }\n",
       "\n",
       "    .dataframe thead th {\n",
       "        text-align: left;\n",
       "    }\n",
       "\n",
       "    .dataframe tbody tr th {\n",
       "        vertical-align: top;\n",
       "    }\n",
       "</style>\n",
       "<table border=\"1\" class=\"dataframe\">\n",
       "  <thead>\n",
       "    <tr style=\"text-align: right;\">\n",
       "      <th></th>\n",
       "      <th>text</th>\n",
       "      <th>lang</th>\n",
       "      <th>time_zone</th>\n",
       "    </tr>\n",
       "  </thead>\n",
       "  <tbody>\n",
       "    <tr>\n",
       "      <th>0</th>\n",
       "      <td>RT @importpython: Pipfile and Pipenv : t... ht...</td>\n",
       "      <td>de</td>\n",
       "      <td>Pacific Time (US &amp; Canada)</td>\n",
       "    </tr>\n",
       "    <tr>\n",
       "      <th>1</th>\n",
       "      <td>@NickVorraso Did you check out @cloudboostio? ...</td>\n",
       "      <td>en</td>\n",
       "      <td>Pacific Time (US &amp; Canada)</td>\n",
       "    </tr>\n",
       "    <tr>\n",
       "      <th>2</th>\n",
       "      <td>Water restrictions expressed as a #Python http...</td>\n",
       "      <td>en</td>\n",
       "      <td>Kyiv</td>\n",
       "    </tr>\n",
       "    <tr>\n",
       "      <th>3</th>\n",
       "      <td>Making an animated radial menu with #CSS3 and ...</td>\n",
       "      <td>en</td>\n",
       "      <td>None</td>\n",
       "    </tr>\n",
       "    <tr>\n",
       "      <th>4</th>\n",
       "      <td>Deep Concept Of Regular Expression In JavaScri...</td>\n",
       "      <td>en</td>\n",
       "      <td>None</td>\n",
       "    </tr>\n",
       "  </tbody>\n",
       "</table>\n",
       "</div>"
      ],
      "text/plain": [
       "                                                text lang  \\\n",
       "0  RT @importpython: Pipfile and Pipenv : t... ht...   de   \n",
       "1  @NickVorraso Did you check out @cloudboostio? ...   en   \n",
       "2  Water restrictions expressed as a #Python http...   en   \n",
       "3  Making an animated radial menu with #CSS3 and ...   en   \n",
       "4  Deep Concept Of Regular Expression In JavaScri...   en   \n",
       "\n",
       "                    time_zone  \n",
       "0  Pacific Time (US & Canada)  \n",
       "1  Pacific Time (US & Canada)  \n",
       "2                        Kyiv  \n",
       "3                        None  \n",
       "4                        None  "
      ]
     },
     "execution_count": 32,
     "metadata": {},
     "output_type": "execute_result"
    }
   ],
   "source": [
    "tweets.head()"
   ]
  },
  {
   "cell_type": "markdown",
   "metadata": {},
   "source": [
    "#### Removing urls from text of tweets"
   ]
  },
  {
   "cell_type": "code",
   "execution_count": 35,
   "metadata": {},
   "outputs": [
    {
     "data": {
      "text/html": [
       "<div>\n",
       "<style>\n",
       "    .dataframe thead tr:only-child th {\n",
       "        text-align: right;\n",
       "    }\n",
       "\n",
       "    .dataframe thead th {\n",
       "        text-align: left;\n",
       "    }\n",
       "\n",
       "    .dataframe tbody tr th {\n",
       "        vertical-align: top;\n",
       "    }\n",
       "</style>\n",
       "<table border=\"1\" class=\"dataframe\">\n",
       "  <thead>\n",
       "    <tr style=\"text-align: right;\">\n",
       "      <th></th>\n",
       "      <th>text</th>\n",
       "      <th>lang</th>\n",
       "    </tr>\n",
       "  </thead>\n",
       "  <tbody>\n",
       "    <tr>\n",
       "      <th>0</th>\n",
       "      <td>RT @importpython: Pipfile and Pipenv : t...  #...</td>\n",
       "      <td>de</td>\n",
       "    </tr>\n",
       "    <tr>\n",
       "      <th>1</th>\n",
       "      <td>@NickVorraso Did you check out @cloudboostio? ...</td>\n",
       "      <td>en</td>\n",
       "    </tr>\n",
       "    <tr>\n",
       "      <th>2</th>\n",
       "      <td>Water restrictions expressed as a #Python</td>\n",
       "      <td>en</td>\n",
       "    </tr>\n",
       "    <tr>\n",
       "      <th>3</th>\n",
       "      <td>Making an animated radial menu with #CSS3 and ...</td>\n",
       "      <td>en</td>\n",
       "    </tr>\n",
       "    <tr>\n",
       "      <th>4</th>\n",
       "      <td>Deep Concept Of Regular Expression In JavaScri...</td>\n",
       "      <td>en</td>\n",
       "    </tr>\n",
       "  </tbody>\n",
       "</table>\n",
       "</div>"
      ],
      "text/plain": [
       "                                                text lang\n",
       "0  RT @importpython: Pipfile and Pipenv : t...  #...   de\n",
       "1  @NickVorraso Did you check out @cloudboostio? ...   en\n",
       "2        Water restrictions expressed as a #Python     en\n",
       "3  Making an animated radial menu with #CSS3 and ...   en\n",
       "4  Deep Concept Of Regular Expression In JavaScri...   en"
      ]
     },
     "execution_count": 35,
     "metadata": {},
     "output_type": "execute_result"
    }
   ],
   "source": [
    "def remove_link(text):\n",
    "    regex = r'https?://[^\\s<>\"]+|www\\.[^\\s<>\"]+'\n",
    "    return re.sub(regex, \"\", text)\n",
    "    \n",
    "# Remove urls from tweets text\n",
    "#tweets['text']\n",
    "test = pd.DataFrame()\n",
    "test['text'] = tweets['text']\n",
    "test['lang'] = tweets['lang']\n",
    "test['text'] = list(test['text'].apply(lambda tweet: remove_link(tweet)))\n",
    "test.head()"
   ]
  },
  {
   "cell_type": "markdown",
   "metadata": {},
   "source": [
    "#### Tokenize and remove stop words"
   ]
  },
  {
   "cell_type": "code",
   "execution_count": 36,
   "metadata": {},
   "outputs": [
    {
     "name": "stdout",
     "output_type": "stream",
     "text": [
      "[nltk_data] Downloading package stopwords to\n",
      "[nltk_data]     C:\\Users\\Sravanthi\\AppData\\Roaming\\nltk_data...\n",
      "[nltk_data]   Package stopwords is already up-to-date!\n",
      "[nltk_data] Downloading package punkt to\n",
      "[nltk_data]     C:\\Users\\Sravanthi\\AppData\\Roaming\\nltk_data...\n",
      "[nltk_data]   Package punkt is already up-to-date!\n"
     ]
    },
    {
     "data": {
      "text/plain": [
       "True"
      ]
     },
     "execution_count": 36,
     "metadata": {},
     "output_type": "execute_result"
    }
   ],
   "source": [
    "import nltk\n",
    "nltk.download('stopwords')\n",
    "nltk.download('punkt')"
   ]
  },
  {
   "cell_type": "code",
   "execution_count": 37,
   "metadata": {},
   "outputs": [
    {
     "data": {
      "text/html": [
       "<div>\n",
       "<style>\n",
       "    .dataframe thead tr:only-child th {\n",
       "        text-align: right;\n",
       "    }\n",
       "\n",
       "    .dataframe thead th {\n",
       "        text-align: left;\n",
       "    }\n",
       "\n",
       "    .dataframe tbody tr th {\n",
       "        vertical-align: top;\n",
       "    }\n",
       "</style>\n",
       "<table border=\"1\" class=\"dataframe\">\n",
       "  <thead>\n",
       "    <tr style=\"text-align: right;\">\n",
       "      <th></th>\n",
       "      <th>text</th>\n",
       "      <th>lang</th>\n",
       "      <th>new_text</th>\n",
       "    </tr>\n",
       "  </thead>\n",
       "  <tbody>\n",
       "    <tr>\n",
       "      <th>0</th>\n",
       "      <td>RT @importpython: Pipfile and Pipenv : t...  #...</td>\n",
       "      <td>de</td>\n",
       "      <td>[RT, @, importpython, :, Pipfile, Pipenv, :, ....</td>\n",
       "    </tr>\n",
       "    <tr>\n",
       "      <th>1</th>\n",
       "      <td>@NickVorraso Did you check out @cloudboostio? ...</td>\n",
       "      <td>en</td>\n",
       "      <td>[@, NickVorraso, Did, check, @, cloudboostio, ...</td>\n",
       "    </tr>\n",
       "    <tr>\n",
       "      <th>2</th>\n",
       "      <td>Water restrictions expressed as a #Python</td>\n",
       "      <td>en</td>\n",
       "      <td>[Water, restrictions, expressed, #, Python]</td>\n",
       "    </tr>\n",
       "    <tr>\n",
       "      <th>3</th>\n",
       "      <td>Making an animated radial menu with #CSS3 and ...</td>\n",
       "      <td>en</td>\n",
       "      <td>[Making, animated, radial, menu, #, CSS3, #, J...</td>\n",
       "    </tr>\n",
       "    <tr>\n",
       "      <th>4</th>\n",
       "      <td>Deep Concept Of Regular Expression In JavaScri...</td>\n",
       "      <td>en</td>\n",
       "      <td>[Deep, Concept, Of, Regular, Expression, In, J...</td>\n",
       "    </tr>\n",
       "  </tbody>\n",
       "</table>\n",
       "</div>"
      ],
      "text/plain": [
       "                                                text lang  \\\n",
       "0  RT @importpython: Pipfile and Pipenv : t...  #...   de   \n",
       "1  @NickVorraso Did you check out @cloudboostio? ...   en   \n",
       "2        Water restrictions expressed as a #Python     en   \n",
       "3  Making an animated radial menu with #CSS3 and ...   en   \n",
       "4  Deep Concept Of Regular Expression In JavaScri...   en   \n",
       "\n",
       "                                            new_text  \n",
       "0  [RT, @, importpython, :, Pipfile, Pipenv, :, ....  \n",
       "1  [@, NickVorraso, Did, check, @, cloudboostio, ...  \n",
       "2        [Water, restrictions, expressed, #, Python]  \n",
       "3  [Making, animated, radial, menu, #, CSS3, #, J...  \n",
       "4  [Deep, Concept, Of, Regular, Expression, In, J...  "
      ]
     },
     "execution_count": 37,
     "metadata": {},
     "output_type": "execute_result"
    }
   ],
   "source": [
    "from nltk.corpus import stopwords\n",
    "stop = stopwords.words('english')\n",
    "from nltk.tokenize import word_tokenize\n",
    "test['new_text'] = test['text'].apply(word_tokenize)\n",
    "test['new_text'] = test['new_text'].apply(lambda x: [item for item in x if item not in stop])\n",
    "test.head()"
   ]
  },
  {
   "cell_type": "code",
   "execution_count": 38,
   "metadata": {},
   "outputs": [
    {
     "data": {
      "text/plain": [
       "\"@NickVorraso Did you check out @cloudboostio? We're MongoDB with super-powers for JavaScript apps.\""
      ]
     },
     "execution_count": 38,
     "metadata": {},
     "output_type": "execute_result"
    }
   ],
   "source": [
    "test.iloc[1,0]"
   ]
  },
  {
   "cell_type": "code",
   "execution_count": 39,
   "metadata": {},
   "outputs": [
    {
     "data": {
      "text/plain": [
       "['@',\n",
       " 'NickVorraso',\n",
       " 'Did',\n",
       " 'check',\n",
       " '@',\n",
       " 'cloudboostio',\n",
       " '?',\n",
       " 'We',\n",
       " \"'re\",\n",
       " 'MongoDB',\n",
       " 'super-powers',\n",
       " 'JavaScript',\n",
       " 'apps',\n",
       " '.']"
      ]
     },
     "execution_count": 39,
     "metadata": {},
     "output_type": "execute_result"
    }
   ],
   "source": [
    "test.iloc[1,2]"
   ]
  },
  {
   "cell_type": "markdown",
   "metadata": {},
   "source": [
    "#### Creating and training a bloomfilter on train data\n",
    "Tried installing pybloomfiltermmap3 but got 'mman.h' file error. Looking up online, I found this package 'dynamic_pybloom' package which has all the necessary modules.\n",
    "https://github.com/srf5132/dynamic-pybloom/"
   ]
  },
  {
   "cell_type": "code",
   "execution_count": 42,
   "metadata": {
    "collapsed": true
   },
   "outputs": [],
   "source": [
    "from dynamic_pybloom import ScalableBloomFilter\n",
    "sbf = ScalableBloomFilter(mode=ScalableBloomFilter.SMALL_SET_GROWTH)\n",
    "\n",
    "for tweet_word in train['new_text']:\n",
    "    sbf.add(tweet_word)"
   ]
  },
  {
   "cell_type": "code",
   "execution_count": 43,
   "metadata": {},
   "outputs": [
    {
     "data": {
      "text/plain": [
       "41587"
      ]
     },
     "execution_count": 43,
     "metadata": {},
     "output_type": "execute_result"
    }
   ],
   "source": [
    "len(sbf)"
   ]
  },
  {
   "cell_type": "code",
   "execution_count": 44,
   "metadata": {},
   "outputs": [
    {
     "data": {
      "text/plain": [
       "False"
      ]
     },
     "execution_count": 44,
     "metadata": {},
     "output_type": "execute_result"
    }
   ],
   "source": [
    "'RT @learn_html_css_: How To Get 300 Real Followers For Instagram a Day\\n☞ \\n\\n #html #css #javascript #wordpress https:…' in sbf"
   ]
  },
  {
   "cell_type": "code",
   "execution_count": 45,
   "metadata": {},
   "outputs": [
    {
     "data": {
      "text/plain": [
       "True"
      ]
     },
     "execution_count": 45,
     "metadata": {},
     "output_type": "execute_result"
    }
   ],
   "source": [
    "['RT',\n",
    " '@',\n",
    " 'learn_html_css_',\n",
    " ':',\n",
    " 'How',\n",
    " 'To',\n",
    " 'Get',\n",
    " '300',\n",
    " 'Real',\n",
    " 'Followers',\n",
    " 'For',\n",
    " 'Instagram',\n",
    " 'Day',\n",
    " '☞',\n",
    " '#',\n",
    " 'html',\n",
    " '#',\n",
    " 'css',\n",
    " '#',\n",
    " 'javascript',\n",
    " '#',\n",
    " 'wordpress',\n",
    " 'https',\n",
    " ':',\n",
    " '…'] in sbf"
   ]
  },
  {
   "cell_type": "markdown",
   "metadata": {},
   "source": [
    "#### Comparing train and test data to see the no of matches\n",
    "Using the scalable bloomfilter with train data tweets, I checked if each tweet in test data matches with any in scalablebloomfilter. Used count variables 'match_count', 'notmatch_count' to get the count of matched and unmatched tweets."
   ]
  },
  {
   "cell_type": "code",
   "execution_count": 66,
   "metadata": {},
   "outputs": [
    {
     "name": "stdout",
     "output_type": "stream",
     "text": [
      "21438\n",
      "32625\n"
     ]
    }
   ],
   "source": [
    "match_count = 0\n",
    "nomatch_count = 0\n",
    "for tweet in test['new_text']:\n",
    "    if tweet in sbf:\n",
    "        match_count += 1\n",
    "    else:\n",
    "        nomatch_count += 1\n",
    "    \n",
    "print(match_count)\n",
    "print(nomatch_count)"
   ]
  },
  {
   "cell_type": "code",
   "execution_count": 74,
   "metadata": {},
   "outputs": [
    {
     "data": {
      "text/plain": [
       "[<matplotlib.text.Text at 0x1b896af2518>,\n",
       " <matplotlib.text.Text at 0x1b8974c1c18>]"
      ]
     },
     "execution_count": 74,
     "metadata": {},
     "output_type": "execute_result"
    },
    {
     "data": {
      "image/png": "[encoded data removed]",
      "text/plain": [
       "<matplotlib.figure.Figure at 0x1b898bdb9b0>"
      ]
     },
     "metadata": {},
     "output_type": "display_data"
    }
   ],
   "source": [
    "%matplotlib inline\n",
    "import matplotlib.pyplot as plt\n",
    "x_vars = ['Match', 'Unmatch']\n",
    "x_pos = list(range(len(x_vars)))\n",
    "y_pos = [match_count,nomatch_count]\n",
    "width = 0.8\n",
    "fig, ax = plt.subplots()\n",
    "plt.bar(x_pos, y_pos, width, alpha=1, color='g')\n",
    "\n",
    "# Setting axis labels and ticks\n",
    "ax.set_ylabel('Number of tweets', fontsize=15)\n",
    "ax.set_title('Matched tweets vs. Unmatched tweets', fontsize=10, fontweight='bold')\n",
    "ax.set_xticks([p + 0.4 * width for p in x_pos])\n",
    "ax.set_xticklabels(x_vars)\n",
    "#plt.grid()"
   ]
  },
  {
   "cell_type": "code",
   "execution_count": 72,
   "metadata": {},
   "outputs": [
    {
     "data": {
      "text/plain": [
       "<matplotlib.axes._subplots.AxesSubplot at 0x1b89966abe0>"
      ]
     },
     "execution_count": 72,
     "metadata": {},
     "output_type": "execute_result"
    },
    {
     "data": {
      "image/png": "[encoded data removed]",
      "text/plain": [
       "<matplotlib.figure.Figure at 0x1b89b6ea710>"
      ]
     },
     "metadata": {},
     "output_type": "display_data"
    }
   ],
   "source": [
    "plt_tweets = pd.DataFrame()\n",
    "plt_tweets['Match'] = [match_count]\n",
    "plt_tweets['Unmatch'] = [nomatch_count]\n",
    "plt_tweets.plot.bar()"
   ]
  },
  {
   "cell_type": "code",
   "execution_count": null,
   "metadata": {
    "collapsed": true
   },
   "outputs": [],
   "source": []
  }
 ],
 "metadata": {
  "kernelspec": {
   "display_name": "Python 3",
   "language": "python",
   "name": "python3"
  },
  "language_info": {
   "codemirror_mode": {
    "name": "ipython",
    "version": 3
   },
   "file_extension": ".py",
   "mimetype": "text/x-python",
   "name": "python",
   "nbconvert_exporter": "python",
   "pygments_lexer": "ipython3",
   "version": "3.6.1"
  }
 },
 "nbformat": 4,
 "nbformat_minor": 2
}
